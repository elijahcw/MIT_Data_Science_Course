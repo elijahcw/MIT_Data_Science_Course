{
 "cells": [
  {
   "cell_type": "markdown",
   "metadata": {
    "id": "5yQmWybNalxe"
   },
   "source": [
    "# CardioGood Fitness Case Study - Descriptive Statistics\n",
    "The market research team at AdRight is assigned the task to identify the profile of the typical customer for each treadmill product offered by CardioGood Fitness. The market research team decides to investigate whether there are differences across the product lines with respect to customer characteristics. The team decides to collect data on individuals who purchased a treadmill at a CardioGood Fitness retail store during the prior three months. The data are stored in the CardioGoodFitness.csv file.\n",
    "\n",
    "### The team identifies the following customer variables to study: \n",
    "  - product purchased, TM195, TM498, or TM798.\n",
    "  - gender.\n",
    "  - age, in years. \n",
    "  - education, in years.\n",
    "  - relationship status, single or partnered.\n",
    "  - annual household income.\n",
    "  - average number of times the customer plans to use the treadmill each week. \n",
    "  - average number of miles the customer expects to walk/run each week.\n",
    "  - and self-rated fitness on a 1-to-5 scale, where 1 is poor shape and 5 is excellent shape.\n",
    "\n",
    "### Perform descriptive analytics to create a customer profile for each CardioGood Fitness treadmill product line."
   ]
  },
  {
   "cell_type": "code",
   "execution_count": 1,
   "metadata": {
    "id": "FwqlEvXRalxf"
   },
   "outputs": [],
   "source": [
    "# Load the necessary packages\n",
    "import numpy as np\n",
    "import pandas as pd"
   ]
  },
  {
   "cell_type": "code",
   "execution_count": null,
   "metadata": {
    "colab": {
     "base_uri": "https://localhost:8080/"
    },
    "id": "n80q9bMBafY6",
    "outputId": "7de67ee3-be82-4e30-f91b-a8bd63d4c8e0"
   },
   "outputs": [],
   "source": [
    "# Google Drive is not allowed on my employee laptop.  SO I am not using it and am instead using local files & a Jupyter Notebook.\n",
    "# from google.colab import drive\n",
    "# drive.mount('/content/drive')"
   ]
  },
  {
   "cell_type": "code",
   "execution_count": 2,
   "metadata": {
    "id": "PTQiscNQalxi"
   },
   "outputs": [],
   "source": [
    "# Load the Cardio Dataset\n",
    "# mydata = pd.read_csv('/content/drive/MyDrive/Colab Notebooks/CardioGoodFitness.csv')\n",
    "mydata = pd.read_csv('./CardioGoodFitness.csv')"
   ]
  },
  {
   "cell_type": "code",
   "execution_count": 3,
   "metadata": {
    "colab": {
     "base_uri": "https://localhost:8080/",
     "height": 206
    },
    "id": "6L3dLuhjalxl",
    "outputId": "d4cf767d-b688-4f9e-c8a1-7ec46da3af42"
   },
   "outputs": [
    {
     "data": {
      "text/html": [
       "<div>\n",
       "<style scoped>\n",
       "    .dataframe tbody tr th:only-of-type {\n",
       "        vertical-align: middle;\n",
       "    }\n",
       "\n",
       "    .dataframe tbody tr th {\n",
       "        vertical-align: top;\n",
       "    }\n",
       "\n",
       "    .dataframe thead th {\n",
       "        text-align: right;\n",
       "    }\n",
       "</style>\n",
       "<table border=\"1\" class=\"dataframe\">\n",
       "  <thead>\n",
       "    <tr style=\"text-align: right;\">\n",
       "      <th></th>\n",
       "      <th>Product</th>\n",
       "      <th>Age</th>\n",
       "      <th>Gender</th>\n",
       "      <th>Education</th>\n",
       "      <th>MaritalStatus</th>\n",
       "      <th>Usage</th>\n",
       "      <th>Fitness</th>\n",
       "      <th>Income</th>\n",
       "      <th>Miles</th>\n",
       "    </tr>\n",
       "  </thead>\n",
       "  <tbody>\n",
       "    <tr>\n",
       "      <th>0</th>\n",
       "      <td>TM195</td>\n",
       "      <td>18</td>\n",
       "      <td>Male</td>\n",
       "      <td>14</td>\n",
       "      <td>Single</td>\n",
       "      <td>3</td>\n",
       "      <td>4</td>\n",
       "      <td>29562</td>\n",
       "      <td>112</td>\n",
       "    </tr>\n",
       "    <tr>\n",
       "      <th>1</th>\n",
       "      <td>TM195</td>\n",
       "      <td>19</td>\n",
       "      <td>Male</td>\n",
       "      <td>15</td>\n",
       "      <td>Single</td>\n",
       "      <td>2</td>\n",
       "      <td>3</td>\n",
       "      <td>31836</td>\n",
       "      <td>75</td>\n",
       "    </tr>\n",
       "    <tr>\n",
       "      <th>2</th>\n",
       "      <td>TM195</td>\n",
       "      <td>19</td>\n",
       "      <td>Female</td>\n",
       "      <td>14</td>\n",
       "      <td>Partnered</td>\n",
       "      <td>4</td>\n",
       "      <td>3</td>\n",
       "      <td>30699</td>\n",
       "      <td>66</td>\n",
       "    </tr>\n",
       "    <tr>\n",
       "      <th>3</th>\n",
       "      <td>TM195</td>\n",
       "      <td>19</td>\n",
       "      <td>Male</td>\n",
       "      <td>12</td>\n",
       "      <td>Single</td>\n",
       "      <td>3</td>\n",
       "      <td>3</td>\n",
       "      <td>32973</td>\n",
       "      <td>85</td>\n",
       "    </tr>\n",
       "    <tr>\n",
       "      <th>4</th>\n",
       "      <td>TM195</td>\n",
       "      <td>20</td>\n",
       "      <td>Male</td>\n",
       "      <td>13</td>\n",
       "      <td>Partnered</td>\n",
       "      <td>4</td>\n",
       "      <td>2</td>\n",
       "      <td>35247</td>\n",
       "      <td>47</td>\n",
       "    </tr>\n",
       "  </tbody>\n",
       "</table>\n",
       "</div>"
      ],
      "text/plain": [
       "  Product  Age  Gender  Education MaritalStatus  Usage  Fitness  Income  Miles\n",
       "0   TM195   18    Male         14        Single      3        4   29562    112\n",
       "1   TM195   19    Male         15        Single      2        3   31836     75\n",
       "2   TM195   19  Female         14     Partnered      4        3   30699     66\n",
       "3   TM195   19    Male         12        Single      3        3   32973     85\n",
       "4   TM195   20    Male         13     Partnered      4        2   35247     47"
      ]
     },
     "execution_count": 3,
     "metadata": {},
     "output_type": "execute_result"
    }
   ],
   "source": [
    "mydata.head()"
   ]
  },
  {
   "cell_type": "code",
   "execution_count": null,
   "metadata": {
    "colab": {
     "base_uri": "https://localhost:8080/",
     "height": 394
    },
    "id": "gx7XgVaxalxq",
    "outputId": "a5e724ad-e388-4991-b820-195576c2a064"
   },
   "outputs": [],
   "source": [
    "mydata.describe(include=\"all\")"
   ]
  },
  {
   "cell_type": "code",
   "execution_count": null,
   "metadata": {
    "colab": {
     "base_uri": "https://localhost:8080/"
    },
    "id": "OpR1RHh-alxt",
    "outputId": "869a21f4-c1b2-4b91-c4e5-97155de0f1d5"
   },
   "outputs": [],
   "source": [
    "mydata.info()"
   ]
  },
  {
   "cell_type": "code",
   "execution_count": null,
   "metadata": {
    "colab": {
     "base_uri": "https://localhost:8080/",
     "height": 1000
    },
    "id": "xCWYdGJZalxw",
    "outputId": "72425176-cf59-45b8-fbd0-bbe5a42d0abb"
   },
   "outputs": [],
   "source": [
    "import matplotlib.pyplot as plt\n",
    "%matplotlib inline\n",
    "\n",
    "mydata.hist(figsize=(20,30))"
   ]
  },
  {
   "cell_type": "code",
   "execution_count": null,
   "metadata": {
    "colab": {
     "base_uri": "https://localhost:8080/",
     "height": 466
    },
    "id": "lLAY-ph-alxz",
    "outputId": "fbc6dac1-d7f5-44e4-ec3d-daa95954540f"
   },
   "outputs": [],
   "source": [
    "import seaborn as sns #importing seaborn library\n",
    "\n",
    "sns.boxplot(x=\"Gender\", y=\"Age\", data=mydata)"
   ]
  },
  {
   "cell_type": "code",
   "execution_count": null,
   "metadata": {
    "colab": {
     "base_uri": "https://localhost:8080/",
     "height": 466
    },
    "id": "9Lekr-gKaa4F",
    "outputId": "dcca715d-cb8b-46ee-be87-24eaa7ce6c51"
   },
   "outputs": [],
   "source": [
    "sns.boxplot(x=\"Product\", y=\"Age\", data=mydata)"
   ]
  },
  {
   "cell_type": "code",
   "execution_count": null,
   "metadata": {
    "colab": {
     "base_uri": "https://localhost:8080/",
     "height": 175
    },
    "id": "WQD1evkUalx2",
    "outputId": "d4d994a2-714b-464d-8e55-29de6b99024f"
   },
   "outputs": [],
   "source": [
    "pd.crosstab(mydata['Product'],mydata['Gender'] )"
   ]
  },
  {
   "cell_type": "code",
   "execution_count": null,
   "metadata": {
    "colab": {
     "base_uri": "https://localhost:8080/",
     "height": 175
    },
    "id": "cDxYJ64nalx5",
    "outputId": "32b11871-2de8-4ac0-9c7e-4579170db9aa"
   },
   "outputs": [],
   "source": [
    "pd.crosstab(mydata['Product'],mydata['MaritalStatus'] )"
   ]
  },
  {
   "cell_type": "code",
   "execution_count": null,
   "metadata": {
    "colab": {
     "base_uri": "https://localhost:8080/",
     "height": 466
    },
    "id": "NOLByyabalx8",
    "outputId": "b53aa8a2-3134-4d3d-da24-499613932a3a"
   },
   "outputs": [],
   "source": [
    "sns.countplot(x=\"Product\", hue=\"Gender\", data=mydata)"
   ]
  },
  {
   "cell_type": "code",
   "execution_count": null,
   "metadata": {
    "colab": {
     "base_uri": "https://localhost:8080/",
     "height": 364
    },
    "id": "e5v_4VlValx-",
    "outputId": "afed8190-d057-488a-a93d-3420311f6f93"
   },
   "outputs": [],
   "source": [
    "pd.pivot_table(mydata, index=['Product', 'Gender'],\n",
    "                     columns=[ 'MaritalStatus'], aggfunc=len)"
   ]
  },
  {
   "cell_type": "code",
   "execution_count": null,
   "metadata": {
    "colab": {
     "base_uri": "https://localhost:8080/",
     "height": 269
    },
    "id": "UCjf0j-galyB",
    "outputId": "ed00dc46-2fb2-4765-ae2d-57ecb7a449eb"
   },
   "outputs": [],
   "source": [
    "pd.pivot_table(mydata,'Income', index=['Product', 'Gender'],\n",
    "                     columns=[ 'MaritalStatus'])"
   ]
  },
  {
   "cell_type": "code",
   "execution_count": null,
   "metadata": {
    "colab": {
     "base_uri": "https://localhost:8080/",
     "height": 269
    },
    "id": "bGbFJOc-alyE",
    "outputId": "8bd7ae58-3ea8-41b8-9d0e-19bdb3c81328"
   },
   "outputs": [],
   "source": [
    "pd.pivot_table(mydata,'Miles', index=['Product', 'Gender'],\n",
    "                     columns=[ 'MaritalStatus'])"
   ]
  },
  {
   "cell_type": "code",
   "execution_count": null,
   "metadata": {
    "colab": {
     "base_uri": "https://localhost:8080/",
     "height": 977
    },
    "id": "iK2KSu7qalyI",
    "outputId": "2277511c-e4ba-491d-c8d2-1db6b73fc02c"
   },
   "outputs": [],
   "source": [
    "sns.pairplot(mydata)"
   ]
  },
  {
   "cell_type": "code",
   "execution_count": null,
   "metadata": {
    "colab": {
     "base_uri": "https://localhost:8080/"
    },
    "id": "C2_8GA9balyM",
    "outputId": "4ee5b4bf-75e3-4813-a0e6-e878db45386e"
   },
   "outputs": [],
   "source": [
    "mydata['Age'].std()"
   ]
  },
  {
   "cell_type": "code",
   "execution_count": null,
   "metadata": {
    "colab": {
     "base_uri": "https://localhost:8080/"
    },
    "id": "LZYVrJgQalyQ",
    "outputId": "1828ddc7-1d88-4860-b82f-2bc03db8b12c"
   },
   "outputs": [],
   "source": [
    "mydata['Age'].mean()"
   ]
  },
  {
   "cell_type": "code",
   "execution_count": null,
   "metadata": {
    "colab": {
     "base_uri": "https://localhost:8080/",
     "height": 523
    },
    "id": "kAdYftLHaa4H",
    "outputId": "61580ce2-e04f-4fe1-c13b-92fbe60bdfe7"
   },
   "outputs": [],
   "source": [
    "sns.displot(data=mydata, x='Age', kde=True)"
   ]
  },
  {
   "cell_type": "code",
   "execution_count": null,
   "metadata": {
    "colab": {
     "base_uri": "https://localhost:8080/",
     "height": 481
    },
    "id": "gcol88gJalyX",
    "outputId": "b6a6e955-0b4e-4036-91fc-bf776140e2a0"
   },
   "outputs": [],
   "source": [
    "mydata.hist(by='Gender',column = 'Age')"
   ]
  },
  {
   "cell_type": "code",
   "execution_count": null,
   "metadata": {
    "colab": {
     "base_uri": "https://localhost:8080/",
     "height": 516
    },
    "id": "rEPATncaalyd",
    "outputId": "ed36b8f2-2fed-4d43-e9ea-d8d97a775b7a"
   },
   "outputs": [],
   "source": [
    "mydata.hist(by='Gender',column = 'Income')"
   ]
  },
  {
   "cell_type": "code",
   "execution_count": null,
   "metadata": {
    "colab": {
     "base_uri": "https://localhost:8080/",
     "height": 490
    },
    "id": "4sK-v64Aalyg",
    "outputId": "36dd5993-861f-482f-e2d8-b267830b1e62"
   },
   "outputs": [],
   "source": [
    "mydata.hist(by='Gender',column = 'Miles')"
   ]
  },
  {
   "cell_type": "code",
   "execution_count": null,
   "metadata": {
    "colab": {
     "base_uri": "https://localhost:8080/",
     "height": 1000
    },
    "id": "DE8kTfUmalyi",
    "outputId": "c2f4bfac-8481-4248-fdf4-37fab328f176"
   },
   "outputs": [],
   "source": [
    "mydata.hist(by='Product',column = 'Miles', figsize=(20,30))"
   ]
  },
  {
   "cell_type": "code",
   "execution_count": null,
   "metadata": {
    "colab": {
     "base_uri": "https://localhost:8080/",
     "height": 292
    },
    "id": "6zeD93f_alym",
    "outputId": "69555401-fc0b-435d-9e1a-d46d33b821b1"
   },
   "outputs": [],
   "source": [
    "corr = mydata.corr()\n",
    "corr"
   ]
  },
  {
   "cell_type": "code",
   "execution_count": null,
   "metadata": {
    "colab": {
     "base_uri": "https://localhost:8080/",
     "height": 452
    },
    "id": "fCB5MQo3alyo",
    "outputId": "227a91df-cb80-419c-f304-97200a653145"
   },
   "outputs": [],
   "source": [
    "sns.heatmap(corr, annot=True)"
   ]
  },
  {
   "cell_type": "code",
   "execution_count": null,
   "metadata": {
    "colab": {
     "base_uri": "https://localhost:8080/",
     "height": 75
    },
    "id": "Ue9gKwfYalyq",
    "outputId": "e7fb841d-c0a5-4d6b-dd34-c20826d4957b"
   },
   "outputs": [],
   "source": [
    "# Simple Linear Regression\n",
    "\n",
    "#Load function from sklearn\n",
    "from sklearn import linear_model\n",
    "\n",
    "# Create linear regression object\n",
    "regr = linear_model.LinearRegression()\n",
    "\n",
    "y = mydata['Miles']\n",
    "x = mydata[['Usage','Fitness']]\n",
    "\n",
    "# Train the model using the training sets\n",
    "regr.fit(x,y)"
   ]
  },
  {
   "cell_type": "code",
   "execution_count": null,
   "metadata": {
    "colab": {
     "base_uri": "https://localhost:8080/"
    },
    "id": "99AxHwhKalys",
    "outputId": "669f7ba1-cf5f-4aaa-8d37-ece06ad8afc0"
   },
   "outputs": [],
   "source": [
    "regr.coef_"
   ]
  },
  {
   "cell_type": "code",
   "execution_count": null,
   "metadata": {
    "colab": {
     "base_uri": "https://localhost:8080/"
    },
    "id": "dZIz0qp_alyv",
    "outputId": "c5ce0cca-6220-4105-e0f9-f22c9ee3b737"
   },
   "outputs": [],
   "source": [
    "regr.intercept_"
   ]
  },
  {
   "cell_type": "code",
   "execution_count": null,
   "metadata": {
    "id": "chn8tXv3alyx"
   },
   "outputs": [],
   "source": [
    "# MilesPredicted = -56.74 + 20.21*Usage + 27.20*Fitness"
   ]
  }
 ],
 "metadata": {
  "colab": {
   "provenance": []
  },
  "kernelspec": {
   "display_name": "Python 3 (ipykernel)",
   "language": "python",
   "name": "python3"
  },
  "language_info": {
   "codemirror_mode": {
    "name": "ipython",
    "version": 3
   },
   "file_extension": ".py",
   "mimetype": "text/x-python",
   "name": "python",
   "nbconvert_exporter": "python",
   "pygments_lexer": "ipython3",
   "version": "3.9.5"
  }
 },
 "nbformat": 4,
 "nbformat_minor": 4
}
